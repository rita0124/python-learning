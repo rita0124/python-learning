{
 "cells": [
  {
   "cell_type": "markdown",
   "metadata": {},
   "source": [
    "# 取得口罩數量 API"
   ]
  },
  {
   "cell_type": "markdown",
   "metadata": {},
   "source": [
    "## 取得口罩數量的 CSV 檔案"
   ]
  },
  {
   "cell_type": "code",
   "execution_count": 2,
   "metadata": {},
   "outputs": [],
   "source": [
    "import csv\n",
    "import requests\n",
    "\n",
    "mask_url = \"http://data.nhi.gov.tw/Datasets/Download.ashx?rid=A21030000I-D50001-001&l=https://data.nhi.gov.tw/resource/mask/maskdata.csv\"\n",
    "req = requests.get(mask_url)\n",
    "url_content = req.content\n",
    "csv_file = open('mask_count_today.csv', 'wb')\n",
    "\n",
    "csv_file.write(url_content)\n",
    "csv_file.close()"
   ]
  },
  {
   "cell_type": "markdown",
   "metadata": {},
   "source": [
    "## 根據字串的特徵擷取內容"
   ]
  },
  {
   "cell_type": "markdown",
   "metadata": {},
   "source": [
    "### Regular Expression\n",
    "\n",
    "* 需要使用 Regular Expression 判斷\n",
    "* 這是黑手一般的工作不用背起來\n",
    "* 知道怎麼查資料看文件就行，參考資料如[連結](https://ithelp.ithome.com.tw/articles/10197315)\n"
   ]
  },
  {
   "cell_type": "code",
   "execution_count": 28,
   "metadata": {},
   "outputs": [
    {
     "name": "stdout",
     "output_type": "stream",
     "text": [
      "台北  ---  中正\n",
      "台北  ---  中正\n",
      "台北  ---  大安\n"
     ]
    }
   ],
   "source": [
    "import re\n",
    "\n",
    "address_list = ['台北市中正區忠孝東路一段1號', '台北市中正區中山南路1號', '台北市大安區仁愛路三段53-1號']\n",
    "\n",
    "for addr in address_list:\n",
    "    # m = re.search('區', addr).group()\n",
    "    regex = re.compile(r'(\\w\\w)[縣市](\\w+)區')\n",
    "    match = regex.search(addr)\n",
    "    print(match.group(1), ' --- ', match.group(2))\n"
   ]
  },
  {
   "cell_type": "markdown",
   "metadata": {},
   "source": [
    "* 來算算看台北市內各行政區所擁有的口罩數量吧!\n",
    "* 在那之前，必須先觀察我們所擷取下來的資料，去了解一下他到底長得怎麼樣！"
   ]
  },
  {
   "cell_type": "markdown",
   "metadata": {},
   "source": [
    "```\n",
    "﻿醫事機構代碼,醫事機構名稱,醫事機構地址,醫事機構電話,成人口罩剩餘數,兒童口罩剩餘數,來源資料時間\n",
    "0145080011,衛生福利部花蓮醫院豐濱原住民分院,花蓮縣豐濱鄉豐濱村光豐路４１號,8358141,2654,1239,2020/05/27 15:38:20\n",
    "0291010010,連江縣立醫院,連江縣南竿鄉復興村２１７號,623995,2691,250,2020/05/27 15:38:20\n",
    "2101010013,松山健康服務中心,臺北市松山區八德路４段６９２號６樓,(02)27671757,22490,3752,2020/05/27 15:38:20\n",
    "2101020019,大安健康服務中心,臺北市大安區辛亥路３段１５號,(02)27335831,20457,2560,2020/05/27 15:38:20\n",
    "2101090011,大同健康服務中心,臺北市大同區昌吉街５２號,(02)25853227,11574,2270,2020/05/27 15:38:20\n",
    "2101100227,中山健康服務中心,臺北市中山區松江路３６７號７樓,(02)25014616,13635,1310,2020/05/27 15:38:20\n",
    "```"
   ]
  },
  {
   "cell_type": "markdown",
   "metadata": {},
   "source": [
    "* 總共有七個欄位\n",
    "* 我們關心的資料分別是 \"醫事機構地址\" \"成人口罩剩餘數\" \"兒童口罩剩餘數\" 這三個欄位!!!\n",
    "\n",
    "### 想像一下演算法\n",
    "\n",
    "* 用迴圈讀取檔案中的每一行資料\n",
    "* 用 split(',') 切割欄位\n",
    "* 用 regular expression 取含有 '臺北市' 字眼的資料\n",
    "    * 並且針對不同行政區的口罩數進行加總 (用 dict)"
   ]
  },
  {
   "cell_type": "code",
   "execution_count": null,
   "metadata": {},
   "outputs": [],
   "source": [
    "import re\n",
    "\n",
    "def address_filter():\n",
    "    with open('mask_count_today.csv', 'r', encoding='UTF-8') as fp:\n",
    "        while True: \n",
    "            line = fp.readline()\n",
    "            # print(line)\n",
    "            for addr in address_list:\n",
    "                # m = re.search('區', addr).group()\n",
    "                regex = re.compile(r'(\\w\\w)[縣市](\\w+)區')\n",
    "                match = regex.search(addr)\n",
    "                print(match.group(1), ' -- ', match.group(2))"
   ]
  },
  {
   "cell_type": "code",
   "execution_count": null,
   "metadata": {},
   "outputs": [],
   "source": [
    "address_filter()"
   ]
  },
  {
   "cell_type": "code",
   "execution_count": null,
   "metadata": {},
   "outputs": [],
   "source": []
  }
 ],
 "metadata": {
  "kernelspec": {
   "display_name": "Python 3",
   "language": "python",
   "name": "python3"
  },
  "language_info": {
   "codemirror_mode": {
    "name": "ipython",
    "version": 3
   },
   "file_extension": ".py",
   "mimetype": "text/x-python",
   "name": "python",
   "nbconvert_exporter": "python",
   "pygments_lexer": "ipython3",
   "version": "3.7.6"
  }
 },
 "nbformat": 4,
 "nbformat_minor": 4
}
