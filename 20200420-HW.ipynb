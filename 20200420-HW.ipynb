{
 "cells": [
  {
   "cell_type": "markdown",
   "metadata": {},
   "source": [
    "# 第一題\n",
    "## 傳入不固定長度的浮點數串列、算平均值、回傳平均值"
   ]
  },
  {
   "cell_type": "code",
   "execution_count": 31,
   "metadata": {},
   "outputs": [
    {
     "name": "stdout",
     "output_type": "stream",
     "text": [
      "2.106333333333333\n"
     ]
    }
   ],
   "source": [
    "def number (n = []):\n",
    "    import numpy\n",
    "    avg = numpy.mean(n)\n",
    "    return a\n",
    "avg = number([1.11, 2.11, 3.099])\n",
    "print(avg)"
   ]
  },
  {
   "cell_type": "markdown",
   "metadata": {},
   "source": [
    "# 第二題\n",
    "## 傳入不固定長度的浮點數串列、回傳 tuple (最小值, 最大值）\n",
    "**在寫這題之前，先上網看 list 和 tuple 差在哪裡**<br/>\n",
    "串列 list : 是一連串順序性的元素組成，我們可以新增、讀取、刪除和修改串列，串列中可以有重複的元素。**用中括号[ ]表示**<br/>\n",
    "元組 tuple : 可以視為不可改變的串列。**用小括号（）表示** 1. 佔用空間較少 2. 可以當做字典的 key（因不可變） 3. 具名 tuple 可當做物件替代 4. 當做函式引數"
   ]
  },
  {
   "cell_type": "code",
   "execution_count": 50,
   "metadata": {},
   "outputs": [
    {
     "name": "stdout",
     "output_type": "stream",
     "text": [
      "(7, -5)\n"
     ]
    }
   ],
   "source": [
    "def num(n = ()):\n",
    "    val = (max(n), min(n))\n",
    "    return val\n",
    "val = num((1.1, 0 , -1, 7, -5))\n",
    "print(val)"
   ]
  }
 ],
 "metadata": {
  "kernelspec": {
   "display_name": "Python 3",
   "language": "python",
   "name": "python3"
  },
  "language_info": {
   "codemirror_mode": {
    "name": "ipython",
    "version": 3
   },
   "file_extension": ".py",
   "mimetype": "text/x-python",
   "name": "python",
   "nbconvert_exporter": "python",
   "pygments_lexer": "ipython3",
   "version": "3.7.6"
  }
 },
 "nbformat": 4,
 "nbformat_minor": 4
}
