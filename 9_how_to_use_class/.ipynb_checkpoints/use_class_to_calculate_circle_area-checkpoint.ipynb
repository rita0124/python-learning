{
 "cells": [
  {
   "cell_type": "code",
   "execution_count": 59,
   "metadata": {},
   "outputs": [
    {
     "name": "stdout",
     "output_type": "stream",
     "text": [
      "半徑為 1 的圓面積為  3.141592653589793\n",
      "半徑為 100 的圓面積為  31415.926535897932\n"
     ]
    }
   ],
   "source": [
    "import math\n",
    "class Circle: #class類別名稱:\n",
    "    r = 1\n",
    "    pi = 3.14\n",
    "    area = pi * r**2\n",
    "    \n",
    "    \n",
    "    def __init__(self, r):#定義初始化函式，第一個變數必須是'self'\n",
    "        self.radius = r #建立實體物件\n",
    "                               \n",
    "    def getArea(self):\n",
    "        return math.pi * self.radius**2\n",
    "\n",
    "#第一個實體物件\n",
    "C1 = Circle(1)\n",
    "print('半徑為', C1.radius, '的圓面積為 ', C1.getArea())\n",
    "#第二個實體物件\n",
    "C2 = Circle(100)\n",
    "print('半徑為', C2.radius, '的圓面積為 ', C2.getArea())"
   ]
  },
  {
   "cell_type": "code",
   "execution_count": null,
   "metadata": {},
   "outputs": [],
   "source": []
  }
 ],
 "metadata": {
  "kernelspec": {
   "display_name": "Python 3",
   "language": "python",
   "name": "python3"
  },
  "language_info": {
   "codemirror_mode": {
    "name": "ipython",
    "version": 3
   },
   "file_extension": ".py",
   "mimetype": "text/x-python",
   "name": "python",
   "nbconvert_exporter": "python",
   "pygments_lexer": "ipython3",
   "version": "3.7.6"
  }
 },
 "nbformat": 4,
 "nbformat_minor": 4
}
