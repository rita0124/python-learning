{
 "cells": [
  {
   "cell_type": "code",
   "execution_count": 1,
   "metadata": {},
   "outputs": [],
   "source": [
    "class People:\n",
    "    name = '小明'\n",
    "    money = 123\n",
    "\n",
    "    #  在以 People類別 實作出各個物件時(下方幾個人的誕生)，預設會被呼叫的函式\n",
    "    #  以物件導向程式設計的觀念來說，這是一個「建構子函式」(constructor function)\n",
    "    def __init__(self, n = '無名氏', m = 0):\n",
    "        self.name = n\n",
    "        self.money = m"
   ]
  },
  {
   "cell_type": "code",
   "execution_count": 7,
   "metadata": {},
   "outputs": [
    {
     "name": "stdout",
     "output_type": "stream",
     "text": [
      "None\n",
      "None\n"
     ]
    }
   ],
   "source": [
    "alex = People()  # 有個叫做 Alex 的人身無分文且無名\n",
    "print(alex.name)\n",
    "print(alex.money)"
   ]
  },
  {
   "cell_type": "code",
   "execution_count": 8,
   "metadata": {},
   "outputs": [
    {
     "name": "stdout",
     "output_type": "stream",
     "text": [
      "林稚齡\n",
      "None\n"
     ]
    }
   ],
   "source": [
    "rita = People('林稚齡')  #  rita 在出生的時候 取名叫做林稚齡 但是因為怕她學壞所以不給她錢\n",
    "print(rita.name)\n",
    "print(rita.money)"
   ]
  },
  {
   "cell_type": "code",
   "execution_count": 9,
   "metadata": {},
   "outputs": [
    {
     "name": "stdout",
     "output_type": "stream",
     "text": [
      "None\n",
      "50\n"
     ]
    }
   ],
   "source": [
    "bird = People(m=50)  # bird 在出生的時候 因為董事長在外面偷生的緣故 所以給他錢但不給名字\n",
    "print(bird.name)\n",
    "print(bird.money)"
   ]
  },
  {
   "cell_type": "code",
   "execution_count": 10,
   "metadata": {},
   "outputs": [
    {
     "name": "stdout",
     "output_type": "stream",
     "text": [
      "林克特\n",
      "16888\n"
     ]
    }
   ],
   "source": [
    "kurt = People('林克特', 16888)  # kurt 出生豪門 有名又多金\n",
    "print(kurt.name)\n",
    "print(kurt.money)"
   ]
  },
  {
   "cell_type": "code",
   "execution_count": null,
   "metadata": {},
   "outputs": [],
   "source": []
  }
 ],
 "metadata": {
  "kernelspec": {
   "display_name": "Python 3",
   "language": "python",
   "name": "python3"
  },
  "language_info": {
   "codemirror_mode": {
    "name": "ipython",
    "version": 3
   },
   "file_extension": ".py",
   "mimetype": "text/x-python",
   "name": "python",
   "nbconvert_exporter": "python",
   "pygments_lexer": "ipython3",
   "version": "3.7.6"
  }
 },
 "nbformat": 4,
 "nbformat_minor": 4
}
