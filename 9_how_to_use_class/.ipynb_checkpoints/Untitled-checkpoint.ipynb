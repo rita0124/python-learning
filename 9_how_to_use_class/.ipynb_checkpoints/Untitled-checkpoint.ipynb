{
 "cells": [
  {
   "cell_type": "code",
   "execution_count": 10,
   "metadata": {},
   "outputs": [],
   "source": [
    "class People:\n",
    "    name = ''\n",
    "    money = 0\n",
    "\n",
    "    #  在以 People類別 實作出各個物件時(下方幾個人的誕生)，預設會被呼叫的函式\n",
    "    #  以物件導向程式設計的觀念來說，這是一個「建構子函式」(constructor function)\n",
    "    #  憲法第一條規定，如果出生時不取名字的話 就會被稱為無名氏\n",
    "    #  憲法第二條規定，任何人出生的時候，如果沒有錢，就會得到一百元\n",
    "    def __init__(self, n = '無名氏', m = 100):\n",
    "        self.name = n\n",
    "        self.money = m\n",
    "        \n",
    "    #  來實作第一個 function: 嘛嘛砸摳~\n",
    "    #  每一個小孩子都會跟媽媽要錢, 成功的話 錢就會多十塊\n",
    "    def ask_mama_ten_dollar(self):\n",
    "        self.money = self.money + 10"
   ]
  },
  {
   "cell_type": "code",
   "execution_count": 11,
   "metadata": {},
   "outputs": [
    {
     "name": "stdout",
     "output_type": "stream",
     "text": [
      "林克特\n",
      "16888\n"
     ]
    }
   ],
   "source": [
    "kurt = People('林克特', 16888)  # kurt 出生豪門 有名又多金\n",
    "print(kurt.name)\n",
    "print(kurt.money)"
   ]
  },
  {
   "cell_type": "code",
   "execution_count": 12,
   "metadata": {},
   "outputs": [
    {
     "name": "stdout",
     "output_type": "stream",
     "text": [
      "林克特\n",
      "16898\n"
     ]
    }
   ],
   "source": [
    "kurt.ask_mama_ten_dollar()\n",
    "print(kurt.name)\n",
    "print(kurt.money)"
   ]
  },
  {
   "cell_type": "code",
   "execution_count": 13,
   "metadata": {},
   "outputs": [
    {
     "name": "stdout",
     "output_type": "stream",
     "text": [
      "無名氏\n",
      "50\n"
     ]
    }
   ],
   "source": [
    "bird = People(m=50)  # bird 在出生的時候 因為董事長在外面偷生的緣故 所以給他錢但不給名字\n",
    "print(bird.name)\n",
    "print(bird.money)  # 因為董事長爸爸給他五十元的關係，所以不會拿到政府給的一百元 XD"
   ]
  },
  {
   "cell_type": "code",
   "execution_count": 14,
   "metadata": {},
   "outputs": [
    {
     "name": "stdout",
     "output_type": "stream",
     "text": [
      "無名氏\n",
      "60\n"
     ]
    }
   ],
   "source": [
    "bird.ask_mama_ten_dollar()\n",
    "print(bird.name)\n",
    "print(bird.money)"
   ]
  },
  {
   "cell_type": "code",
   "execution_count": null,
   "metadata": {},
   "outputs": [],
   "source": []
  }
 ],
 "metadata": {
  "kernelspec": {
   "display_name": "Python 3",
   "language": "python",
   "name": "python3"
  },
  "language_info": {
   "codemirror_mode": {
    "name": "ipython",
    "version": 3
   },
   "file_extension": ".py",
   "mimetype": "text/x-python",
   "name": "python",
   "nbconvert_exporter": "python",
   "pygments_lexer": "ipython3",
   "version": "3.7.6"
  }
 },
 "nbformat": 4,
 "nbformat_minor": 4
}
